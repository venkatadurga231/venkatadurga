{
 "cells": [
  {
   "cell_type": "markdown",
   "id": "cb0142a4",
   "metadata": {},
   "source": [
    "# Сессия 1\n",
    "---"
   ]
  },
  {
   "cell_type": "code",
   "execution_count": 1,
   "id": "25bef6f5",
   "metadata": {},
   "outputs": [],
   "source": [
    "# импорт библиотек\n",
    "import pandas as pd\n",
    "import seaborn as sns\n",
    "import matplotlib.pyplot as plt \n",
    "\n",
    "%matplotlib inline"
   ]
  },
  {
   "cell_type": "markdown",
   "id": "5f083253",
   "metadata": {},
   "source": [
    "### 1.1 Подготовка данных"
   ]
  },
  {
   "cell_type": "markdown",
   "id": "bf6f0106",
   "metadata": {},
   "source": [
    "Необходимо выполнить подготовку данных для дальнейшего  анализа и построения прогнозных моделей. Следует выполнить загрузку всех необходимых данных по пассажирским перевозкам. Требуется выполнить объединение двух частей набора данных по перевозкам."
   ]
  },
  {
   "cell_type": "code",
   "execution_count": 2,
   "id": "f75b8c72",
   "metadata": {},
   "outputs": [],
   "source": [
    "first_part = pd.read_excel(\"train_first_part.xlsx\")\n",
    "second_part = pd.read_json(\"train_second_part.json\")\n",
    "weather = pd.read_csv(\"weather.csv\")"
   ]
  },
  {
   "cell_type": "code",
   "execution_count": 3,
   "id": "9dffecd8",
   "metadata": {},
   "outputs": [
    {
     "data": {
      "text/html": [
       "<div>\n",
       "<style scoped>\n",
       "    .dataframe tbody tr th:only-of-type {\n",
       "        vertical-align: middle;\n",
       "    }\n",
       "\n",
       "    .dataframe tbody tr th {\n",
       "        vertical-align: top;\n",
       "    }\n",
       "\n",
       "    .dataframe thead th {\n",
       "        text-align: right;\n",
       "    }\n",
       "</style>\n",
       "<table border=\"1\" class=\"dataframe\">\n",
       "  <thead>\n",
       "    <tr style=\"text-align: right;\">\n",
       "      <th></th>\n",
       "      <th>id</th>\n",
       "      <th>vendor_id</th>\n",
       "      <th>pickup_datetime</th>\n",
       "      <th>dropoff_datetime</th>\n",
       "      <th>passenger_count</th>\n",
       "      <th>pickup_longitude</th>\n",
       "      <th>pickup_latitude</th>\n",
       "      <th>dropoff_longitude</th>\n",
       "      <th>dropoff_latitude</th>\n",
       "      <th>store_and_fwd_flag</th>\n",
       "      <th>trip_duration</th>\n",
       "    </tr>\n",
       "  </thead>\n",
       "  <tbody>\n",
       "    <tr>\n",
       "      <th>0</th>\n",
       "      <td>id2875421</td>\n",
       "      <td>2</td>\n",
       "      <td>2016-03-14 17:24:55</td>\n",
       "      <td>2016-03-14 17:32:30</td>\n",
       "      <td>1</td>\n",
       "      <td>-73.982155</td>\n",
       "      <td>40.767937</td>\n",
       "      <td>-73.964630</td>\n",
       "      <td>40.765602</td>\n",
       "      <td>N</td>\n",
       "      <td>455</td>\n",
       "    </tr>\n",
       "    <tr>\n",
       "      <th>1</th>\n",
       "      <td>id2377394</td>\n",
       "      <td>1</td>\n",
       "      <td>2016-06-12 00:43:35</td>\n",
       "      <td>2016-06-12 00:54:38</td>\n",
       "      <td>1</td>\n",
       "      <td>-73.980415</td>\n",
       "      <td>40.738564</td>\n",
       "      <td>-73.999481</td>\n",
       "      <td>40.731152</td>\n",
       "      <td>N</td>\n",
       "      <td>663</td>\n",
       "    </tr>\n",
       "    <tr>\n",
       "      <th>2</th>\n",
       "      <td>id3858529</td>\n",
       "      <td>2</td>\n",
       "      <td>2016-01-19 11:35:24</td>\n",
       "      <td>2016-01-19 12:10:48</td>\n",
       "      <td>1</td>\n",
       "      <td>-73.979027</td>\n",
       "      <td>40.763939</td>\n",
       "      <td>-74.005333</td>\n",
       "      <td>40.710087</td>\n",
       "      <td>N</td>\n",
       "      <td>2124</td>\n",
       "    </tr>\n",
       "    <tr>\n",
       "      <th>3</th>\n",
       "      <td>id3504673</td>\n",
       "      <td>2</td>\n",
       "      <td>2016-04-06 19:32:31</td>\n",
       "      <td>2016-04-06 19:39:40</td>\n",
       "      <td>1</td>\n",
       "      <td>-74.010040</td>\n",
       "      <td>40.719971</td>\n",
       "      <td>-74.012268</td>\n",
       "      <td>40.706718</td>\n",
       "      <td>N</td>\n",
       "      <td>429</td>\n",
       "    </tr>\n",
       "    <tr>\n",
       "      <th>4</th>\n",
       "      <td>id2181028</td>\n",
       "      <td>2</td>\n",
       "      <td>2016-03-26 13:30:55</td>\n",
       "      <td>2016-03-26 13:38:10</td>\n",
       "      <td>1</td>\n",
       "      <td>-73.973053</td>\n",
       "      <td>40.793209</td>\n",
       "      <td>-73.972923</td>\n",
       "      <td>40.782520</td>\n",
       "      <td>N</td>\n",
       "      <td>435</td>\n",
       "    </tr>\n",
       "  </tbody>\n",
       "</table>\n",
       "</div>"
      ],
      "text/plain": [
       "          id  vendor_id     pickup_datetime    dropoff_datetime  \\\n",
       "0  id2875421          2 2016-03-14 17:24:55 2016-03-14 17:32:30   \n",
       "1  id2377394          1 2016-06-12 00:43:35 2016-06-12 00:54:38   \n",
       "2  id3858529          2 2016-01-19 11:35:24 2016-01-19 12:10:48   \n",
       "3  id3504673          2 2016-04-06 19:32:31 2016-04-06 19:39:40   \n",
       "4  id2181028          2 2016-03-26 13:30:55 2016-03-26 13:38:10   \n",
       "\n",
       "   passenger_count  pickup_longitude  pickup_latitude  dropoff_longitude  \\\n",
       "0                1        -73.982155        40.767937         -73.964630   \n",
       "1                1        -73.980415        40.738564         -73.999481   \n",
       "2                1        -73.979027        40.763939         -74.005333   \n",
       "3                1        -74.010040        40.719971         -74.012268   \n",
       "4                1        -73.973053        40.793209         -73.972923   \n",
       "\n",
       "   dropoff_latitude store_and_fwd_flag  trip_duration  \n",
       "0         40.765602                  N            455  \n",
       "1         40.731152                  N            663  \n",
       "2         40.710087                  N           2124  \n",
       "3         40.706718                  N            429  \n",
       "4         40.782520                  N            435  "
      ]
     },
     "execution_count": 3,
     "metadata": {},
     "output_type": "execute_result"
    }
   ],
   "source": [
    "first_part.head()"
   ]
  },
  {
   "cell_type": "code",
   "execution_count": 4,
   "id": "e2c1e6b5",
   "metadata": {},
   "outputs": [
    {
     "data": {
      "text/html": [
       "<div>\n",
       "<style scoped>\n",
       "    .dataframe tbody tr th:only-of-type {\n",
       "        vertical-align: middle;\n",
       "    }\n",
       "\n",
       "    .dataframe tbody tr th {\n",
       "        vertical-align: top;\n",
       "    }\n",
       "\n",
       "    .dataframe thead th {\n",
       "        text-align: right;\n",
       "    }\n",
       "</style>\n",
       "<table border=\"1\" class=\"dataframe\">\n",
       "  <thead>\n",
       "    <tr style=\"text-align: right;\">\n",
       "      <th></th>\n",
       "      <th>id</th>\n",
       "      <th>vendor_id</th>\n",
       "      <th>pickup_datetime</th>\n",
       "      <th>dropoff_datetime</th>\n",
       "      <th>passenger_count</th>\n",
       "      <th>pickup_longitude</th>\n",
       "      <th>pickup_latitude</th>\n",
       "      <th>dropoff_longitude</th>\n",
       "      <th>dropoff_latitude</th>\n",
       "      <th>store_and_fwd_flag</th>\n",
       "      <th>trip_duration</th>\n",
       "    </tr>\n",
       "  </thead>\n",
       "  <tbody>\n",
       "    <tr>\n",
       "      <th>0</th>\n",
       "      <td>id3758523</td>\n",
       "      <td>2</td>\n",
       "      <td>6/2/16 2:30</td>\n",
       "      <td>6/2/16 2:50</td>\n",
       "      <td>6</td>\n",
       "      <td>-73.991272</td>\n",
       "      <td>40.697350</td>\n",
       "      <td>-73.989700</td>\n",
       "      <td>40.767689</td>\n",
       "      <td>N</td>\n",
       "      <td>1210</td>\n",
       "    </tr>\n",
       "    <tr>\n",
       "      <th>1</th>\n",
       "      <td>id1849264</td>\n",
       "      <td>2</td>\n",
       "      <td>1/6/16 18:12</td>\n",
       "      <td>1/6/16 18:30</td>\n",
       "      <td>5</td>\n",
       "      <td>-73.988281</td>\n",
       "      <td>40.723385</td>\n",
       "      <td>-74.005089</td>\n",
       "      <td>40.749908</td>\n",
       "      <td>N</td>\n",
       "      <td>1077</td>\n",
       "    </tr>\n",
       "    <tr>\n",
       "      <th>2</th>\n",
       "      <td>id3457947</td>\n",
       "      <td>1</td>\n",
       "      <td>2/28/16 12:09</td>\n",
       "      <td>2/28/16 12:11</td>\n",
       "      <td>1</td>\n",
       "      <td>-73.968872</td>\n",
       "      <td>40.767120</td>\n",
       "      <td>-73.962051</td>\n",
       "      <td>40.776581</td>\n",
       "      <td>N</td>\n",
       "      <td>135</td>\n",
       "    </tr>\n",
       "    <tr>\n",
       "      <th>3</th>\n",
       "      <td>id2181863</td>\n",
       "      <td>2</td>\n",
       "      <td>6/26/16 16:22</td>\n",
       "      <td>6/26/16 16:29</td>\n",
       "      <td>1</td>\n",
       "      <td>-73.982330</td>\n",
       "      <td>40.775517</td>\n",
       "      <td>-73.965622</td>\n",
       "      <td>40.804626</td>\n",
       "      <td>N</td>\n",
       "      <td>415</td>\n",
       "    </tr>\n",
       "    <tr>\n",
       "      <th>4</th>\n",
       "      <td>id1445143</td>\n",
       "      <td>1</td>\n",
       "      <td>5/12/16 22:43</td>\n",
       "      <td>5/12/16 22:57</td>\n",
       "      <td>2</td>\n",
       "      <td>-73.966698</td>\n",
       "      <td>40.764000</td>\n",
       "      <td>-73.938751</td>\n",
       "      <td>40.766308</td>\n",
       "      <td>N</td>\n",
       "      <td>810</td>\n",
       "    </tr>\n",
       "  </tbody>\n",
       "</table>\n",
       "</div>"
      ],
      "text/plain": [
       "          id  vendor_id pickup_datetime dropoff_datetime  passenger_count  \\\n",
       "0  id3758523          2     6/2/16 2:30      6/2/16 2:50                6   \n",
       "1  id1849264          2    1/6/16 18:12     1/6/16 18:30                5   \n",
       "2  id3457947          1   2/28/16 12:09    2/28/16 12:11                1   \n",
       "3  id2181863          2   6/26/16 16:22    6/26/16 16:29                1   \n",
       "4  id1445143          1   5/12/16 22:43    5/12/16 22:57                2   \n",
       "\n",
       "   pickup_longitude  pickup_latitude  dropoff_longitude  dropoff_latitude  \\\n",
       "0        -73.991272        40.697350         -73.989700         40.767689   \n",
       "1        -73.988281        40.723385         -74.005089         40.749908   \n",
       "2        -73.968872        40.767120         -73.962051         40.776581   \n",
       "3        -73.982330        40.775517         -73.965622         40.804626   \n",
       "4        -73.966698        40.764000         -73.938751         40.766308   \n",
       "\n",
       "  store_and_fwd_flag  trip_duration  \n",
       "0                  N           1210  \n",
       "1                  N           1077  \n",
       "2                  N            135  \n",
       "3                  N            415  \n",
       "4                  N            810  "
      ]
     },
     "execution_count": 4,
     "metadata": {},
     "output_type": "execute_result"
    }
   ],
   "source": [
    "second_part.head()"
   ]
  },
  {
   "cell_type": "markdown",
   "id": "d2383c73",
   "metadata": {},
   "source": [
    "Объединяем выборки"
   ]
  },
  {
   "cell_type": "code",
   "execution_count": 5,
   "id": "36e88425",
   "metadata": {},
   "outputs": [],
   "source": [
    "df = pd.concat([first_part, second_part]).drop_duplicates(\"id\").drop(\"id\", axis = 1)"
   ]
  },
  {
   "cell_type": "code",
   "execution_count": 6,
   "id": "f7559226",
   "metadata": {},
   "outputs": [
    {
     "data": {
      "text/html": [
       "<div>\n",
       "<style scoped>\n",
       "    .dataframe tbody tr th:only-of-type {\n",
       "        vertical-align: middle;\n",
       "    }\n",
       "\n",
       "    .dataframe tbody tr th {\n",
       "        vertical-align: top;\n",
       "    }\n",
       "\n",
       "    .dataframe thead th {\n",
       "        text-align: right;\n",
       "    }\n",
       "</style>\n",
       "<table border=\"1\" class=\"dataframe\">\n",
       "  <thead>\n",
       "    <tr style=\"text-align: right;\">\n",
       "      <th></th>\n",
       "      <th>vendor_id</th>\n",
       "      <th>pickup_datetime</th>\n",
       "      <th>dropoff_datetime</th>\n",
       "      <th>passenger_count</th>\n",
       "      <th>pickup_longitude</th>\n",
       "      <th>pickup_latitude</th>\n",
       "      <th>dropoff_longitude</th>\n",
       "      <th>dropoff_latitude</th>\n",
       "      <th>store_and_fwd_flag</th>\n",
       "      <th>trip_duration</th>\n",
       "    </tr>\n",
       "  </thead>\n",
       "  <tbody>\n",
       "    <tr>\n",
       "      <th>0</th>\n",
       "      <td>2</td>\n",
       "      <td>2016-03-14 17:24:55</td>\n",
       "      <td>2016-03-14 17:32:30</td>\n",
       "      <td>1</td>\n",
       "      <td>-73.982155</td>\n",
       "      <td>40.767937</td>\n",
       "      <td>-73.964630</td>\n",
       "      <td>40.765602</td>\n",
       "      <td>N</td>\n",
       "      <td>455</td>\n",
       "    </tr>\n",
       "    <tr>\n",
       "      <th>1</th>\n",
       "      <td>1</td>\n",
       "      <td>2016-06-12 00:43:35</td>\n",
       "      <td>2016-06-12 00:54:38</td>\n",
       "      <td>1</td>\n",
       "      <td>-73.980415</td>\n",
       "      <td>40.738564</td>\n",
       "      <td>-73.999481</td>\n",
       "      <td>40.731152</td>\n",
       "      <td>N</td>\n",
       "      <td>663</td>\n",
       "    </tr>\n",
       "    <tr>\n",
       "      <th>2</th>\n",
       "      <td>2</td>\n",
       "      <td>2016-01-19 11:35:24</td>\n",
       "      <td>2016-01-19 12:10:48</td>\n",
       "      <td>1</td>\n",
       "      <td>-73.979027</td>\n",
       "      <td>40.763939</td>\n",
       "      <td>-74.005333</td>\n",
       "      <td>40.710087</td>\n",
       "      <td>N</td>\n",
       "      <td>2124</td>\n",
       "    </tr>\n",
       "    <tr>\n",
       "      <th>3</th>\n",
       "      <td>2</td>\n",
       "      <td>2016-04-06 19:32:31</td>\n",
       "      <td>2016-04-06 19:39:40</td>\n",
       "      <td>1</td>\n",
       "      <td>-74.010040</td>\n",
       "      <td>40.719971</td>\n",
       "      <td>-74.012268</td>\n",
       "      <td>40.706718</td>\n",
       "      <td>N</td>\n",
       "      <td>429</td>\n",
       "    </tr>\n",
       "    <tr>\n",
       "      <th>4</th>\n",
       "      <td>2</td>\n",
       "      <td>2016-03-26 13:30:55</td>\n",
       "      <td>2016-03-26 13:38:10</td>\n",
       "      <td>1</td>\n",
       "      <td>-73.973053</td>\n",
       "      <td>40.793209</td>\n",
       "      <td>-73.972923</td>\n",
       "      <td>40.782520</td>\n",
       "      <td>N</td>\n",
       "      <td>435</td>\n",
       "    </tr>\n",
       "    <tr>\n",
       "      <th>...</th>\n",
       "      <td>...</td>\n",
       "      <td>...</td>\n",
       "      <td>...</td>\n",
       "      <td>...</td>\n",
       "      <td>...</td>\n",
       "      <td>...</td>\n",
       "      <td>...</td>\n",
       "      <td>...</td>\n",
       "      <td>...</td>\n",
       "      <td>...</td>\n",
       "    </tr>\n",
       "    <tr>\n",
       "      <th>8582</th>\n",
       "      <td>1</td>\n",
       "      <td>4/6/16 14:16</td>\n",
       "      <td>4/6/16 14:20</td>\n",
       "      <td>1</td>\n",
       "      <td>-73.973015</td>\n",
       "      <td>40.760948</td>\n",
       "      <td>-73.976387</td>\n",
       "      <td>40.755604</td>\n",
       "      <td>N</td>\n",
       "      <td>207</td>\n",
       "    </tr>\n",
       "    <tr>\n",
       "      <th>8583</th>\n",
       "      <td>2</td>\n",
       "      <td>3/24/16 1:26</td>\n",
       "      <td>3/24/16 1:38</td>\n",
       "      <td>1</td>\n",
       "      <td>-73.985550</td>\n",
       "      <td>40.727257</td>\n",
       "      <td>-73.957039</td>\n",
       "      <td>40.712387</td>\n",
       "      <td>N</td>\n",
       "      <td>740</td>\n",
       "    </tr>\n",
       "    <tr>\n",
       "      <th>8584</th>\n",
       "      <td>1</td>\n",
       "      <td>2/23/16 16:38</td>\n",
       "      <td>2/23/16 16:48</td>\n",
       "      <td>1</td>\n",
       "      <td>-73.972038</td>\n",
       "      <td>40.750202</td>\n",
       "      <td>-73.998360</td>\n",
       "      <td>40.733360</td>\n",
       "      <td>N</td>\n",
       "      <td>605</td>\n",
       "    </tr>\n",
       "    <tr>\n",
       "      <th>8585</th>\n",
       "      <td>1</td>\n",
       "      <td>5/24/16 7:20</td>\n",
       "      <td>5/24/16 7:25</td>\n",
       "      <td>1</td>\n",
       "      <td>-73.993332</td>\n",
       "      <td>40.724342</td>\n",
       "      <td>-74.004250</td>\n",
       "      <td>40.707470</td>\n",
       "      <td>N</td>\n",
       "      <td>287</td>\n",
       "    </tr>\n",
       "    <tr>\n",
       "      <th>8586</th>\n",
       "      <td>2</td>\n",
       "      <td>3/15/16 22:00</td>\n",
       "      <td>3/15/16 22:19</td>\n",
       "      <td>1</td>\n",
       "      <td>-73.988060</td>\n",
       "      <td>40.759548</td>\n",
       "      <td>-74.005585</td>\n",
       "      <td>40.711521</td>\n",
       "      <td>N</td>\n",
       "      <td>1169</td>\n",
       "    </tr>\n",
       "  </tbody>\n",
       "</table>\n",
       "<p>1048575 rows × 10 columns</p>\n",
       "</div>"
      ],
      "text/plain": [
       "      vendor_id      pickup_datetime     dropoff_datetime  passenger_count  \\\n",
       "0             2  2016-03-14 17:24:55  2016-03-14 17:32:30                1   \n",
       "1             1  2016-06-12 00:43:35  2016-06-12 00:54:38                1   \n",
       "2             2  2016-01-19 11:35:24  2016-01-19 12:10:48                1   \n",
       "3             2  2016-04-06 19:32:31  2016-04-06 19:39:40                1   \n",
       "4             2  2016-03-26 13:30:55  2016-03-26 13:38:10                1   \n",
       "...         ...                  ...                  ...              ...   \n",
       "8582          1         4/6/16 14:16         4/6/16 14:20                1   \n",
       "8583          2         3/24/16 1:26         3/24/16 1:38                1   \n",
       "8584          1        2/23/16 16:38        2/23/16 16:48                1   \n",
       "8585          1         5/24/16 7:20         5/24/16 7:25                1   \n",
       "8586          2        3/15/16 22:00        3/15/16 22:19                1   \n",
       "\n",
       "      pickup_longitude  pickup_latitude  dropoff_longitude  dropoff_latitude  \\\n",
       "0           -73.982155        40.767937         -73.964630         40.765602   \n",
       "1           -73.980415        40.738564         -73.999481         40.731152   \n",
       "2           -73.979027        40.763939         -74.005333         40.710087   \n",
       "3           -74.010040        40.719971         -74.012268         40.706718   \n",
       "4           -73.973053        40.793209         -73.972923         40.782520   \n",
       "...                ...              ...                ...               ...   \n",
       "8582        -73.973015        40.760948         -73.976387         40.755604   \n",
       "8583        -73.985550        40.727257         -73.957039         40.712387   \n",
       "8584        -73.972038        40.750202         -73.998360         40.733360   \n",
       "8585        -73.993332        40.724342         -74.004250         40.707470   \n",
       "8586        -73.988060        40.759548         -74.005585         40.711521   \n",
       "\n",
       "     store_and_fwd_flag  trip_duration  \n",
       "0                     N            455  \n",
       "1                     N            663  \n",
       "2                     N           2124  \n",
       "3                     N            429  \n",
       "4                     N            435  \n",
       "...                 ...            ...  \n",
       "8582                  N            207  \n",
       "8583                  N            740  \n",
       "8584                  N            605  \n",
       "8585                  N            287  \n",
       "8586                  N           1169  \n",
       "\n",
       "[1048575 rows x 10 columns]"
      ]
     },
     "execution_count": 6,
     "metadata": {},
     "output_type": "execute_result"
    }
   ],
   "source": [
    "df"
   ]
  },
  {
   "cell_type": "code",
   "execution_count": 7,
   "id": "93fc88de",
   "metadata": {},
   "outputs": [
    {
     "name": "stdout",
     "output_type": "stream",
     "text": [
      "<class 'pandas.core.frame.DataFrame'>\n",
      "Int64Index: 1048575 entries, 0 to 8586\n",
      "Data columns (total 10 columns):\n",
      " #   Column              Non-Null Count    Dtype  \n",
      "---  ------              --------------    -----  \n",
      " 0   vendor_id           1048575 non-null  int64  \n",
      " 1   pickup_datetime     1048575 non-null  object \n",
      " 2   dropoff_datetime    1048575 non-null  object \n",
      " 3   passenger_count     1048575 non-null  int64  \n",
      " 4   pickup_longitude    1048575 non-null  float64\n",
      " 5   pickup_latitude     1048575 non-null  float64\n",
      " 6   dropoff_longitude   1048575 non-null  float64\n",
      " 7   dropoff_latitude    1048575 non-null  float64\n",
      " 8   store_and_fwd_flag  1048575 non-null  object \n",
      " 9   trip_duration       1048575 non-null  int64  \n",
      "dtypes: float64(4), int64(3), object(3)\n",
      "memory usage: 88.0+ MB\n"
     ]
    }
   ],
   "source": [
    "df.info()"
   ]
  },
  {
   "cell_type": "code",
   "execution_count": 8,
   "id": "c7b1f759",
   "metadata": {},
   "outputs": [
    {
     "name": "stdout",
     "output_type": "stream",
     "text": [
      "<class 'pandas.core.frame.DataFrame'>\n",
      "Int64Index: 1048575 entries, 0 to 8586\n",
      "Data columns (total 10 columns):\n",
      " #   Column              Non-Null Count    Dtype         \n",
      "---  ------              --------------    -----         \n",
      " 0   vendor_id           1048575 non-null  int64         \n",
      " 1   pickup_datetime     1048575 non-null  datetime64[ns]\n",
      " 2   dropoff_datetime    1048575 non-null  datetime64[ns]\n",
      " 3   passenger_count     1048575 non-null  int64         \n",
      " 4   pickup_longitude    1048575 non-null  float64       \n",
      " 5   pickup_latitude     1048575 non-null  float64       \n",
      " 6   dropoff_longitude   1048575 non-null  float64       \n",
      " 7   dropoff_latitude    1048575 non-null  float64       \n",
      " 8   store_and_fwd_flag  1048575 non-null  object        \n",
      " 9   trip_duration       1048575 non-null  int64         \n",
      "dtypes: datetime64[ns](2), float64(4), int64(3), object(1)\n",
      "memory usage: 88.0+ MB\n"
     ]
    }
   ],
   "source": [
    "df[\"pickup_datetime\"] = pd.to_datetime(df[\"pickup_datetime\"])\n",
    "df[\"dropoff_datetime\"] = pd.to_datetime(df[\"dropoff_datetime\"])\n",
    "\n",
    "df.info()"
   ]
  },
  {
   "cell_type": "markdown",
   "id": "bc330e52",
   "metadata": {},
   "source": [
    "### Форматирование данных"
   ]
  },
  {
   "cell_type": "code",
   "execution_count": 9,
   "id": "cd86e1d3",
   "metadata": {},
   "outputs": [
    {
     "data": {
      "text/plain": [
       "<AxesSubplot:>"
      ]
     },
     "execution_count": 9,
     "metadata": {},
     "output_type": "execute_result"
    },
    {
     "data": {
      "image/png": "[encoded data removed]",
      "text/plain": [
       "<Figure size 720x720 with 2 Axes>"
      ]
     },
     "metadata": {
      "needs_background": "light"
     },
     "output_type": "display_data"
    }
   ],
   "source": [
    "plt.figure(figsize = (10, 10))\n",
    "sns.heatmap(df.isna())"
   ]
  },
  {
   "cell_type": "code",
   "execution_count": 10,
   "id": "f865fe05",
   "metadata": {},
   "outputs": [
    {
     "name": "stdout",
     "output_type": "stream",
     "text": [
      "<class 'pandas.core.frame.DataFrame'>\n",
      "Int64Index: 1048575 entries, 0 to 8586\n",
      "Data columns (total 10 columns):\n",
      " #   Column              Non-Null Count    Dtype         \n",
      "---  ------              --------------    -----         \n",
      " 0   vendor_id           1048575 non-null  int64         \n",
      " 1   pickup_datetime     1048575 non-null  datetime64[ns]\n",
      " 2   dropoff_datetime    1048575 non-null  datetime64[ns]\n",
      " 3   passenger_count     1048575 non-null  int64         \n",
      " 4   pickup_longitude    1048575 non-null  float64       \n",
      " 5   pickup_latitude     1048575 non-null  float64       \n",
      " 6   dropoff_longitude   1048575 non-null  float64       \n",
      " 7   dropoff_latitude    1048575 non-null  float64       \n",
      " 8   store_and_fwd_flag  1048575 non-null  object        \n",
      " 9   trip_duration       1048575 non-null  int64         \n",
      "dtypes: datetime64[ns](2), float64(4), int64(3), object(1)\n",
      "memory usage: 88.0+ MB\n"
     ]
    }
   ],
   "source": [
    "df.info()"
   ]
  },
  {
   "cell_type": "code",
   "execution_count": 11,
   "id": "4a8f1885",
   "metadata": {},
   "outputs": [],
   "source": [
    "df[\"trip_duration\"] = df[\"trip_duration\"].apply(lambda x : x / 60)"
   ]
  },
  {
   "cell_type": "code",
   "execution_count": 12,
   "id": "e5a2abff",
   "metadata": {},
   "outputs": [
    {
     "data": {
      "text/plain": [
       "0        7.583333\n",
       "1       11.050000\n",
       "2       35.400000\n",
       "3        7.150000\n",
       "4        7.250000\n",
       "          ...    \n",
       "8582     3.450000\n",
       "8583    12.333333\n",
       "8584    10.083333\n",
       "8585     4.783333\n",
       "8586    19.483333\n",
       "Name: trip_duration, Length: 1048575, dtype: float64"
      ]
     },
     "execution_count": 12,
     "metadata": {},
     "output_type": "execute_result"
    }
   ],
   "source": [
    "df[\"trip_duration\"]"
   ]
  },
  {
   "cell_type": "code",
   "execution_count": 13,
   "id": "b917e119",
   "metadata": {},
   "outputs": [
    {
     "data": {
      "text/html": [
       "<div>\n",
       "<style scoped>\n",
       "    .dataframe tbody tr th:only-of-type {\n",
       "        vertical-align: middle;\n",
       "    }\n",
       "\n",
       "    .dataframe tbody tr th {\n",
       "        vertical-align: top;\n",
       "    }\n",
       "\n",
       "    .dataframe thead th {\n",
       "        text-align: right;\n",
       "    }\n",
       "</style>\n",
       "<table border=\"1\" class=\"dataframe\">\n",
       "  <thead>\n",
       "    <tr style=\"text-align: right;\">\n",
       "      <th></th>\n",
       "      <th>vendor_id</th>\n",
       "      <th>passenger_count</th>\n",
       "      <th>pickup_longitude</th>\n",
       "      <th>pickup_latitude</th>\n",
       "      <th>dropoff_longitude</th>\n",
       "      <th>dropoff_latitude</th>\n",
       "      <th>trip_duration</th>\n",
       "    </tr>\n",
       "  </thead>\n",
       "  <tbody>\n",
       "    <tr>\n",
       "      <th>count</th>\n",
       "      <td>1.048575e+06</td>\n",
       "      <td>1.048575e+06</td>\n",
       "      <td>1.048575e+06</td>\n",
       "      <td>1.048575e+06</td>\n",
       "      <td>1.048575e+06</td>\n",
       "      <td>1.048575e+06</td>\n",
       "      <td>1.048575e+06</td>\n",
       "    </tr>\n",
       "    <tr>\n",
       "      <th>mean</th>\n",
       "      <td>1.534503e+00</td>\n",
       "      <td>1.664382e+00</td>\n",
       "      <td>-7.397342e+01</td>\n",
       "      <td>4.075094e+01</td>\n",
       "      <td>-7.397336e+01</td>\n",
       "      <td>4.075183e+01</td>\n",
       "      <td>1.603575e+01</td>\n",
       "    </tr>\n",
       "    <tr>\n",
       "      <th>std</th>\n",
       "      <td>4.988084e-01</td>\n",
       "      <td>1.314261e+00</td>\n",
       "      <td>4.280165e-02</td>\n",
       "      <td>3.381389e-02</td>\n",
       "      <td>4.274282e-02</td>\n",
       "      <td>3.645002e-02</td>\n",
       "      <td>9.755004e+01</td>\n",
       "    </tr>\n",
       "    <tr>\n",
       "      <th>min</th>\n",
       "      <td>1.000000e+00</td>\n",
       "      <td>0.000000e+00</td>\n",
       "      <td>-7.854740e+01</td>\n",
       "      <td>3.435970e+01</td>\n",
       "      <td>-7.981798e+01</td>\n",
       "      <td>3.218114e+01</td>\n",
       "      <td>1.666667e-02</td>\n",
       "    </tr>\n",
       "    <tr>\n",
       "      <th>25%</th>\n",
       "      <td>1.000000e+00</td>\n",
       "      <td>1.000000e+00</td>\n",
       "      <td>-7.399186e+01</td>\n",
       "      <td>4.073738e+01</td>\n",
       "      <td>-7.399131e+01</td>\n",
       "      <td>4.073594e+01</td>\n",
       "      <td>6.616667e+00</td>\n",
       "    </tr>\n",
       "    <tr>\n",
       "      <th>50%</th>\n",
       "      <td>2.000000e+00</td>\n",
       "      <td>1.000000e+00</td>\n",
       "      <td>-7.398174e+01</td>\n",
       "      <td>4.075415e+01</td>\n",
       "      <td>-7.397973e+01</td>\n",
       "      <td>4.075455e+01</td>\n",
       "      <td>1.103333e+01</td>\n",
       "    </tr>\n",
       "    <tr>\n",
       "      <th>75%</th>\n",
       "      <td>2.000000e+00</td>\n",
       "      <td>2.000000e+00</td>\n",
       "      <td>-7.396731e+01</td>\n",
       "      <td>4.076836e+01</td>\n",
       "      <td>-7.396301e+01</td>\n",
       "      <td>4.076984e+01</td>\n",
       "      <td>1.791667e+01</td>\n",
       "    </tr>\n",
       "    <tr>\n",
       "      <th>max</th>\n",
       "      <td>2.000000e+00</td>\n",
       "      <td>9.000000e+00</td>\n",
       "      <td>-6.133553e+01</td>\n",
       "      <td>5.188108e+01</td>\n",
       "      <td>-6.133553e+01</td>\n",
       "      <td>4.391176e+01</td>\n",
       "      <td>5.877137e+04</td>\n",
       "    </tr>\n",
       "  </tbody>\n",
       "</table>\n",
       "</div>"
      ],
      "text/plain": [
       "          vendor_id  passenger_count  pickup_longitude  pickup_latitude  \\\n",
       "count  1.048575e+06     1.048575e+06      1.048575e+06     1.048575e+06   \n",
       "mean   1.534503e+00     1.664382e+00     -7.397342e+01     4.075094e+01   \n",
       "std    4.988084e-01     1.314261e+00      4.280165e-02     3.381389e-02   \n",
       "min    1.000000e+00     0.000000e+00     -7.854740e+01     3.435970e+01   \n",
       "25%    1.000000e+00     1.000000e+00     -7.399186e+01     4.073738e+01   \n",
       "50%    2.000000e+00     1.000000e+00     -7.398174e+01     4.075415e+01   \n",
       "75%    2.000000e+00     2.000000e+00     -7.396731e+01     4.076836e+01   \n",
       "max    2.000000e+00     9.000000e+00     -6.133553e+01     5.188108e+01   \n",
       "\n",
       "       dropoff_longitude  dropoff_latitude  trip_duration  \n",
       "count       1.048575e+06      1.048575e+06   1.048575e+06  \n",
       "mean       -7.397336e+01      4.075183e+01   1.603575e+01  \n",
       "std         4.274282e-02      3.645002e-02   9.755004e+01  \n",
       "min        -7.981798e+01      3.218114e+01   1.666667e-02  \n",
       "25%        -7.399131e+01      4.073594e+01   6.616667e+00  \n",
       "50%        -7.397973e+01      4.075455e+01   1.103333e+01  \n",
       "75%        -7.396301e+01      4.076984e+01   1.791667e+01  \n",
       "max        -6.133553e+01      4.391176e+01   5.877137e+04  "
      ]
     },
     "execution_count": 13,
     "metadata": {},
     "output_type": "execute_result"
    }
   ],
   "source": [
    "df.describe()"
   ]
  },
  {
   "cell_type": "code",
   "execution_count": 14,
   "id": "090e5aa2",
   "metadata": {},
   "outputs": [
    {
     "data": {
      "text/plain": [
       "<AxesSubplot:xlabel='trip_duration'>"
      ]
     },
     "execution_count": 14,
     "metadata": {},
     "output_type": "execute_result"
    },
    {
     "data": {
      "image/png": "[encoded data removed]",
      "text/plain": [
       "<Figure size 360x360 with 1 Axes>"
      ]
     },
     "metadata": {
      "needs_background": "light"
     },
     "output_type": "display_data"
    }
   ],
   "source": [
    "import warnings\n",
    "warnings.filterwarnings(\"ignore\")\n",
    "plt.figure(figsize = (5 , 5))\n",
    "sns.boxplot(df[\"trip_duration\"])"
   ]
  },
  {
   "cell_type": "code",
   "execution_count": 15,
   "id": "e5531825",
   "metadata": {
    "scrolled": false
   },
   "outputs": [
    {
     "data": {
      "image/png": "[encoded data removed]",
      "text/plain": [
       "<Figure size 432x288 with 1 Axes>"
      ]
     },
     "metadata": {
      "needs_background": "light"
     },
     "output_type": "display_data"
    },
    {
     "data": {
      "image/png": "[encoded data removed]",
      "text/plain": [
       "<Figure size 432x288 with 1 Axes>"
      ]
     },
     "metadata": {
      "needs_background": "light"
     },
     "output_type": "display_data"
    },
    {
     "data": {
      "image/png": "[encoded data removed]",
      "text/plain": [
       "<Figure size 432x288 with 1 Axes>"
      ]
     },
     "metadata": {
      "needs_background": "light"
     },
     "output_type": "display_data"
    },
    {
     "data": {
      "image/png": "[encoded data removed]",
      "text/plain": [
       "<Figure size 432x288 with 1 Axes>"
      ]
     },
     "metadata": {
      "needs_background": "light"
     },
     "output_type": "display_data"
    },
    {
     "data": {
      "image/png": "[encoded data removed]",
      "text/plain": [
       "<Figure size 432x288 with 1 Axes>"
      ]
     },
     "metadata": {
      "needs_background": "light"
     },
     "output_type": "display_data"
    },
    {
     "data": {
      "image/png": "[encoded data removed]",
      "text/plain": [
       "<Figure size 432x288 with 1 Axes>"
      ]
     },
     "metadata": {
      "needs_background": "light"
     },
     "output_type": "display_data"
    },
    {
     "data": {
      "image/png": "[encoded data removed]",
      "text/plain": [
       "<Figure size 432x288 with 1 Axes>"
      ]
     },
     "metadata": {
      "needs_background": "light"
     },
     "output_type": "display_data"
    },
    {
     "data": {
      "image/png": "[encoded data removed]",
      "text/plain": [
       "<Figure size 432x288 with 1 Axes>"
      ]
     },
     "metadata": {
      "needs_background": "light"
     },
     "output_type": "display_data"
    },
    {
     "data": {
      "image/png": "[encoded data removed]",
      "text/plain": [
       "<Figure size 432x288 with 1 Axes>"
      ]
     },
     "metadata": {
      "needs_background": "light"
     },
     "output_type": "display_data"
    },
    {
     "data": {
      "image/png": "[encoded data removed]",
      "text/plain": [
       "<Figure size 432x288 with 1 Axes>"
      ]
     },
     "metadata": {
      "needs_background": "light"
     },
     "output_type": "display_data"
    },
    {
     "data": {
      "image/png": "[encoded data removed]",
      "text/plain": [
       "<Figure size 432x288 with 1 Axes>"
      ]
     },
     "metadata": {
      "needs_background": "light"
     },
     "output_type": "display_data"
    }
   ],
   "source": [
    "for i in range(90, 101):\n",
    "    qunt = df[\"trip_duration\"].quantile(i/100)\n",
    "    df_qunt = df[df[\"trip_duration\"] < qunt][\"trip_duration\"]\n",
    "    \n",
    "    sns.boxplot(df_qunt)\n",
    "    plt.title(i)\n",
    "    plt.show()"
   ]
  },
  {
   "cell_type": "code",
   "execution_count": 16,
   "id": "9fa0e4a6",
   "metadata": {},
   "outputs": [],
   "source": [
    "q_up = df[\"trip_duration\"].quantile(0.93)\n",
    "df = df[df[\"trip_duration\"] < q_up]"
   ]
  },
  {
   "cell_type": "code",
   "execution_count": 17,
   "id": "aac4e0a6",
   "metadata": {},
   "outputs": [
    {
     "data": {
      "text/plain": [
       "N    970191\n",
       "Y      4929\n",
       "Name: store_and_fwd_flag, dtype: int64"
      ]
     },
     "execution_count": 17,
     "metadata": {},
     "output_type": "execute_result"
    }
   ],
   "source": [
    "df[\"store_and_fwd_flag\"].value_counts()"
   ]
  },
  {
   "cell_type": "code",
   "execution_count": 18,
   "id": "6788153e",
   "metadata": {},
   "outputs": [
    {
     "data": {
      "text/plain": [
       "0    970191\n",
       "1      4929\n",
       "Name: store_and_fwd_flag, dtype: int64"
      ]
     },
     "execution_count": 18,
     "metadata": {},
     "output_type": "execute_result"
    }
   ],
   "source": [
    "d_tm = {\"N\" : 0, \"Y\" : 1}\n",
    "df[\"store_and_fwd_flag\"] = df[\"store_and_fwd_flag\"].map(d_tm)\n",
    "df[\"store_and_fwd_flag\"].value_counts()"
   ]
  },
  {
   "cell_type": "markdown",
   "id": "e2792cad",
   "metadata": {},
   "source": [
    "## Форматирование погодных данных"
   ]
  },
  {
   "cell_type": "code",
   "execution_count": 19,
   "id": "c251844c",
   "metadata": {},
   "outputs": [
    {
     "data": {
      "text/plain": [
       "date                   0\n",
       "maximum temperature    0\n",
       "minimum temperature    0\n",
       "average temperature    0\n",
       "precipitation          0\n",
       "snow fall              0\n",
       "snow depth             0\n",
       "dtype: int64"
      ]
     },
     "execution_count": 19,
     "metadata": {},
     "output_type": "execute_result"
    }
   ],
   "source": [
    "weather.isna().sum()"
   ]
  },
  {
   "cell_type": "code",
   "execution_count": 20,
   "id": "d38bf4b8",
   "metadata": {},
   "outputs": [
    {
     "name": "stdout",
     "output_type": "stream",
     "text": [
      "['0.00' 'T' '1.80' '0.24' '0.05' '0.01' '2.31' '0.73' '0.53' '0.44' '1.01'\n",
      " '0.03' '0.30' '1.22' '0.02' '0.14' '0.11' '0.06' '0.29' '0.07' '0.04'\n",
      " '0.38' '0.16' '0.09' '0.47' '0.20' '0.61' '0.54' '0.25' '0.18' '1.65'\n",
      " '0.40' '0.91' '0.45' '0.22' '0.12' '0.83' '0' '0.49' '0.66' '0.08' '0.62'\n",
      " '0.35' '1' '1.09' '1.08' '0.15' '0.32' '0.82' '0.31' '0.5' '0.56' '0.68'\n",
      " '0.2' '0.4' '0.23' '0.55' '1.11' '1.41' '1.81' '2.2' '0.19' '0.39']\n",
      "----------\n",
      "['0.0' 'T' '0.4' '0.2' '27.3' '2.5' '0.1' '1.4' '0.5' '0' '2.8']\n",
      "----------\n",
      "['0' 'T' '6' '22' '19' '17' '9' '4' '2' '1']\n",
      "----------\n"
     ]
    }
   ],
   "source": [
    "for col in [\"precipitation\", \"snow fall\", \"snow depth\"]:\n",
    "    print(weather[col].unique())\n",
    "    print(\"-\" * 10)"
   ]
  },
  {
   "cell_type": "code",
   "execution_count": 21,
   "id": "4e4fd6e5",
   "metadata": {},
   "outputs": [],
   "source": [
    "for col in [\"precipitation\", \"snow fall\", \"snow depth\"]:\n",
    "    weather.loc[weather[col] == \"T\", col] = 0\n",
    "    weather[col] = weather[col].astype(float)"
   ]
  },
  {
   "cell_type": "code",
   "execution_count": 22,
   "id": "bc014449",
   "metadata": {},
   "outputs": [
    {
     "data": {
      "text/html": [
       "<div>\n",
       "<style scoped>\n",
       "    .dataframe tbody tr th:only-of-type {\n",
       "        vertical-align: middle;\n",
       "    }\n",
       "\n",
       "    .dataframe tbody tr th {\n",
       "        vertical-align: top;\n",
       "    }\n",
       "\n",
       "    .dataframe thead th {\n",
       "        text-align: right;\n",
       "    }\n",
       "</style>\n",
       "<table border=\"1\" class=\"dataframe\">\n",
       "  <thead>\n",
       "    <tr style=\"text-align: right;\">\n",
       "      <th></th>\n",
       "      <th>maximum temperature</th>\n",
       "      <th>minimum temperature</th>\n",
       "      <th>average temperature</th>\n",
       "      <th>precipitation</th>\n",
       "      <th>snow fall</th>\n",
       "      <th>snow depth</th>\n",
       "    </tr>\n",
       "  </thead>\n",
       "  <tbody>\n",
       "    <tr>\n",
       "      <th>count</th>\n",
       "      <td>366.000000</td>\n",
       "      <td>366.000000</td>\n",
       "      <td>366.000000</td>\n",
       "      <td>366.000000</td>\n",
       "      <td>366.000000</td>\n",
       "      <td>366.000000</td>\n",
       "    </tr>\n",
       "    <tr>\n",
       "      <th>mean</th>\n",
       "      <td>64.625683</td>\n",
       "      <td>49.806011</td>\n",
       "      <td>57.215847</td>\n",
       "      <td>0.115219</td>\n",
       "      <td>0.098361</td>\n",
       "      <td>0.275956</td>\n",
       "    </tr>\n",
       "    <tr>\n",
       "      <th>std</th>\n",
       "      <td>18.041787</td>\n",
       "      <td>16.570747</td>\n",
       "      <td>17.124760</td>\n",
       "      <td>0.309682</td>\n",
       "      <td>1.441631</td>\n",
       "      <td>1.928253</td>\n",
       "    </tr>\n",
       "    <tr>\n",
       "      <th>min</th>\n",
       "      <td>15.000000</td>\n",
       "      <td>-1.000000</td>\n",
       "      <td>7.000000</td>\n",
       "      <td>0.000000</td>\n",
       "      <td>0.000000</td>\n",
       "      <td>0.000000</td>\n",
       "    </tr>\n",
       "    <tr>\n",
       "      <th>25%</th>\n",
       "      <td>50.000000</td>\n",
       "      <td>37.250000</td>\n",
       "      <td>44.000000</td>\n",
       "      <td>0.000000</td>\n",
       "      <td>0.000000</td>\n",
       "      <td>0.000000</td>\n",
       "    </tr>\n",
       "    <tr>\n",
       "      <th>50%</th>\n",
       "      <td>64.500000</td>\n",
       "      <td>48.000000</td>\n",
       "      <td>55.750000</td>\n",
       "      <td>0.000000</td>\n",
       "      <td>0.000000</td>\n",
       "      <td>0.000000</td>\n",
       "    </tr>\n",
       "    <tr>\n",
       "      <th>75%</th>\n",
       "      <td>81.000000</td>\n",
       "      <td>65.000000</td>\n",
       "      <td>73.500000</td>\n",
       "      <td>0.040000</td>\n",
       "      <td>0.000000</td>\n",
       "      <td>0.000000</td>\n",
       "    </tr>\n",
       "    <tr>\n",
       "      <th>max</th>\n",
       "      <td>96.000000</td>\n",
       "      <td>81.000000</td>\n",
       "      <td>88.500000</td>\n",
       "      <td>2.310000</td>\n",
       "      <td>27.300000</td>\n",
       "      <td>22.000000</td>\n",
       "    </tr>\n",
       "  </tbody>\n",
       "</table>\n",
       "</div>"
      ],
      "text/plain": [
       "       maximum temperature  minimum temperature  average temperature  \\\n",
       "count           366.000000           366.000000           366.000000   \n",
       "mean             64.625683            49.806011            57.215847   \n",
       "std              18.041787            16.570747            17.124760   \n",
       "min              15.000000            -1.000000             7.000000   \n",
       "25%              50.000000            37.250000            44.000000   \n",
       "50%              64.500000            48.000000            55.750000   \n",
       "75%              81.000000            65.000000            73.500000   \n",
       "max              96.000000            81.000000            88.500000   \n",
       "\n",
       "       precipitation   snow fall  snow depth  \n",
       "count     366.000000  366.000000  366.000000  \n",
       "mean        0.115219    0.098361    0.275956  \n",
       "std         0.309682    1.441631    1.928253  \n",
       "min         0.000000    0.000000    0.000000  \n",
       "25%         0.000000    0.000000    0.000000  \n",
       "50%         0.000000    0.000000    0.000000  \n",
       "75%         0.040000    0.000000    0.000000  \n",
       "max         2.310000   27.300000   22.000000  "
      ]
     },
     "execution_count": 22,
     "metadata": {},
     "output_type": "execute_result"
    }
   ],
   "source": [
    "weather.describe()"
   ]
  },
  {
   "cell_type": "code",
   "execution_count": 23,
   "id": "c31997f5",
   "metadata": {},
   "outputs": [],
   "source": [
    "for temp in [\"maximum temperature\", \"minimum temperature\", \"average temperature\"]:\n",
    "    weather[temp] = weather[temp].apply(lambda x : (x - 32)/1.8)"
   ]
  },
  {
   "cell_type": "code",
   "execution_count": 24,
   "id": "d2b465b7",
   "metadata": {},
   "outputs": [
    {
     "data": {
      "text/html": [
       "<div>\n",
       "<style scoped>\n",
       "    .dataframe tbody tr th:only-of-type {\n",
       "        vertical-align: middle;\n",
       "    }\n",
       "\n",
       "    .dataframe tbody tr th {\n",
       "        vertical-align: top;\n",
       "    }\n",
       "\n",
       "    .dataframe thead th {\n",
       "        text-align: right;\n",
       "    }\n",
       "</style>\n",
       "<table border=\"1\" class=\"dataframe\">\n",
       "  <thead>\n",
       "    <tr style=\"text-align: right;\">\n",
       "      <th></th>\n",
       "      <th>maximum temperature</th>\n",
       "      <th>minimum temperature</th>\n",
       "      <th>average temperature</th>\n",
       "      <th>precipitation</th>\n",
       "      <th>snow fall</th>\n",
       "      <th>snow depth</th>\n",
       "    </tr>\n",
       "  </thead>\n",
       "  <tbody>\n",
       "    <tr>\n",
       "      <th>count</th>\n",
       "      <td>366.000000</td>\n",
       "      <td>366.000000</td>\n",
       "      <td>366.000000</td>\n",
       "      <td>366.000000</td>\n",
       "      <td>366.000000</td>\n",
       "      <td>366.000000</td>\n",
       "    </tr>\n",
       "    <tr>\n",
       "      <th>mean</th>\n",
       "      <td>18.125379</td>\n",
       "      <td>9.892228</td>\n",
       "      <td>14.008804</td>\n",
       "      <td>0.115219</td>\n",
       "      <td>0.098361</td>\n",
       "      <td>0.275956</td>\n",
       "    </tr>\n",
       "    <tr>\n",
       "      <th>std</th>\n",
       "      <td>10.023215</td>\n",
       "      <td>9.205971</td>\n",
       "      <td>9.513755</td>\n",
       "      <td>0.309682</td>\n",
       "      <td>1.441631</td>\n",
       "      <td>1.928253</td>\n",
       "    </tr>\n",
       "    <tr>\n",
       "      <th>min</th>\n",
       "      <td>-9.444444</td>\n",
       "      <td>-18.333333</td>\n",
       "      <td>-13.888889</td>\n",
       "      <td>0.000000</td>\n",
       "      <td>0.000000</td>\n",
       "      <td>0.000000</td>\n",
       "    </tr>\n",
       "    <tr>\n",
       "      <th>25%</th>\n",
       "      <td>10.000000</td>\n",
       "      <td>2.916667</td>\n",
       "      <td>6.666667</td>\n",
       "      <td>0.000000</td>\n",
       "      <td>0.000000</td>\n",
       "      <td>0.000000</td>\n",
       "    </tr>\n",
       "    <tr>\n",
       "      <th>50%</th>\n",
       "      <td>18.055556</td>\n",
       "      <td>8.888889</td>\n",
       "      <td>13.194444</td>\n",
       "      <td>0.000000</td>\n",
       "      <td>0.000000</td>\n",
       "      <td>0.000000</td>\n",
       "    </tr>\n",
       "    <tr>\n",
       "      <th>75%</th>\n",
       "      <td>27.222222</td>\n",
       "      <td>18.333333</td>\n",
       "      <td>23.055556</td>\n",
       "      <td>0.040000</td>\n",
       "      <td>0.000000</td>\n",
       "      <td>0.000000</td>\n",
       "    </tr>\n",
       "    <tr>\n",
       "      <th>max</th>\n",
       "      <td>35.555556</td>\n",
       "      <td>27.222222</td>\n",
       "      <td>31.388889</td>\n",
       "      <td>2.310000</td>\n",
       "      <td>27.300000</td>\n",
       "      <td>22.000000</td>\n",
       "    </tr>\n",
       "  </tbody>\n",
       "</table>\n",
       "</div>"
      ],
      "text/plain": [
       "       maximum temperature  minimum temperature  average temperature  \\\n",
       "count           366.000000           366.000000           366.000000   \n",
       "mean             18.125379             9.892228            14.008804   \n",
       "std              10.023215             9.205971             9.513755   \n",
       "min              -9.444444           -18.333333           -13.888889   \n",
       "25%              10.000000             2.916667             6.666667   \n",
       "50%              18.055556             8.888889            13.194444   \n",
       "75%              27.222222            18.333333            23.055556   \n",
       "max              35.555556            27.222222            31.388889   \n",
       "\n",
       "       precipitation   snow fall  snow depth  \n",
       "count     366.000000  366.000000  366.000000  \n",
       "mean        0.115219    0.098361    0.275956  \n",
       "std         0.309682    1.441631    1.928253  \n",
       "min         0.000000    0.000000    0.000000  \n",
       "25%         0.000000    0.000000    0.000000  \n",
       "50%         0.000000    0.000000    0.000000  \n",
       "75%         0.040000    0.000000    0.000000  \n",
       "max         2.310000   27.300000   22.000000  "
      ]
     },
     "execution_count": 24,
     "metadata": {},
     "output_type": "execute_result"
    }
   ],
   "source": [
    "weather.describe()"
   ]
  },
  {
   "cell_type": "code",
   "execution_count": 25,
   "id": "5d35333b",
   "metadata": {},
   "outputs": [
    {
     "data": {
      "text/html": [
       "<div>\n",
       "<style scoped>\n",
       "    .dataframe tbody tr th:only-of-type {\n",
       "        vertical-align: middle;\n",
       "    }\n",
       "\n",
       "    .dataframe tbody tr th {\n",
       "        vertical-align: top;\n",
       "    }\n",
       "\n",
       "    .dataframe thead th {\n",
       "        text-align: right;\n",
       "    }\n",
       "</style>\n",
       "<table border=\"1\" class=\"dataframe\">\n",
       "  <thead>\n",
       "    <tr style=\"text-align: right;\">\n",
       "      <th></th>\n",
       "      <th>vendor_id</th>\n",
       "      <th>pickup_datetime</th>\n",
       "      <th>passenger_count</th>\n",
       "      <th>pickup_longitude</th>\n",
       "      <th>pickup_latitude</th>\n",
       "      <th>dropoff_longitude</th>\n",
       "      <th>dropoff_latitude</th>\n",
       "      <th>store_and_fwd_flag</th>\n",
       "      <th>trip_duration</th>\n",
       "      <th>maximum temperature</th>\n",
       "      <th>minimum temperature</th>\n",
       "      <th>average temperature</th>\n",
       "      <th>precipitation</th>\n",
       "      <th>snow fall</th>\n",
       "      <th>snow depth</th>\n",
       "    </tr>\n",
       "  </thead>\n",
       "  <tbody>\n",
       "    <tr>\n",
       "      <th>0</th>\n",
       "      <td>2</td>\n",
       "      <td>2016-03-14 17:24:55</td>\n",
       "      <td>1</td>\n",
       "      <td>-73.982155</td>\n",
       "      <td>40.767937</td>\n",
       "      <td>-73.964630</td>\n",
       "      <td>40.765602</td>\n",
       "      <td>0</td>\n",
       "      <td>7.583333</td>\n",
       "      <td>10.555556</td>\n",
       "      <td>4.444444</td>\n",
       "      <td>7.5</td>\n",
       "      <td>0.29</td>\n",
       "      <td>0.0</td>\n",
       "      <td>0.0</td>\n",
       "    </tr>\n",
       "    <tr>\n",
       "      <th>1</th>\n",
       "      <td>1</td>\n",
       "      <td>2016-03-14 14:05:39</td>\n",
       "      <td>1</td>\n",
       "      <td>-73.975090</td>\n",
       "      <td>40.758766</td>\n",
       "      <td>-73.953201</td>\n",
       "      <td>40.765068</td>\n",
       "      <td>0</td>\n",
       "      <td>22.433333</td>\n",
       "      <td>10.555556</td>\n",
       "      <td>4.444444</td>\n",
       "      <td>7.5</td>\n",
       "      <td>0.29</td>\n",
       "      <td>0.0</td>\n",
       "      <td>0.0</td>\n",
       "    </tr>\n",
       "    <tr>\n",
       "      <th>2</th>\n",
       "      <td>1</td>\n",
       "      <td>2016-03-14 15:04:38</td>\n",
       "      <td>1</td>\n",
       "      <td>-73.994484</td>\n",
       "      <td>40.745087</td>\n",
       "      <td>-73.998993</td>\n",
       "      <td>40.722710</td>\n",
       "      <td>0</td>\n",
       "      <td>11.583333</td>\n",
       "      <td>10.555556</td>\n",
       "      <td>4.444444</td>\n",
       "      <td>7.5</td>\n",
       "      <td>0.29</td>\n",
       "      <td>0.0</td>\n",
       "      <td>0.0</td>\n",
       "    </tr>\n",
       "    <tr>\n",
       "      <th>3</th>\n",
       "      <td>2</td>\n",
       "      <td>2016-03-14 04:24:36</td>\n",
       "      <td>3</td>\n",
       "      <td>-73.944359</td>\n",
       "      <td>40.714489</td>\n",
       "      <td>-73.910530</td>\n",
       "      <td>40.709492</td>\n",
       "      <td>0</td>\n",
       "      <td>12.583333</td>\n",
       "      <td>10.555556</td>\n",
       "      <td>4.444444</td>\n",
       "      <td>7.5</td>\n",
       "      <td>0.29</td>\n",
       "      <td>0.0</td>\n",
       "      <td>0.0</td>\n",
       "    </tr>\n",
       "    <tr>\n",
       "      <th>4</th>\n",
       "      <td>2</td>\n",
       "      <td>2016-03-14 14:57:56</td>\n",
       "      <td>1</td>\n",
       "      <td>-73.952881</td>\n",
       "      <td>40.766468</td>\n",
       "      <td>-73.978630</td>\n",
       "      <td>40.761921</td>\n",
       "      <td>0</td>\n",
       "      <td>17.500000</td>\n",
       "      <td>10.555556</td>\n",
       "      <td>4.444444</td>\n",
       "      <td>7.5</td>\n",
       "      <td>0.29</td>\n",
       "      <td>0.0</td>\n",
       "      <td>0.0</td>\n",
       "    </tr>\n",
       "  </tbody>\n",
       "</table>\n",
       "</div>"
      ],
      "text/plain": [
       "   vendor_id     pickup_datetime  passenger_count  pickup_longitude  \\\n",
       "0          2 2016-03-14 17:24:55                1        -73.982155   \n",
       "1          1 2016-03-14 14:05:39                1        -73.975090   \n",
       "2          1 2016-03-14 15:04:38                1        -73.994484   \n",
       "3          2 2016-03-14 04:24:36                3        -73.944359   \n",
       "4          2 2016-03-14 14:57:56                1        -73.952881   \n",
       "\n",
       "   pickup_latitude  dropoff_longitude  dropoff_latitude  store_and_fwd_flag  \\\n",
       "0        40.767937         -73.964630         40.765602                   0   \n",
       "1        40.758766         -73.953201         40.765068                   0   \n",
       "2        40.745087         -73.998993         40.722710                   0   \n",
       "3        40.714489         -73.910530         40.709492                   0   \n",
       "4        40.766468         -73.978630         40.761921                   0   \n",
       "\n",
       "   trip_duration  maximum temperature  minimum temperature  \\\n",
       "0       7.583333            10.555556             4.444444   \n",
       "1      22.433333            10.555556             4.444444   \n",
       "2      11.583333            10.555556             4.444444   \n",
       "3      12.583333            10.555556             4.444444   \n",
       "4      17.500000            10.555556             4.444444   \n",
       "\n",
       "   average temperature  precipitation  snow fall  snow depth  \n",
       "0                  7.5           0.29        0.0         0.0  \n",
       "1                  7.5           0.29        0.0         0.0  \n",
       "2                  7.5           0.29        0.0         0.0  \n",
       "3                  7.5           0.29        0.0         0.0  \n",
       "4                  7.5           0.29        0.0         0.0  "
      ]
     },
     "execution_count": 25,
     "metadata": {},
     "output_type": "execute_result"
    }
   ],
   "source": [
    "df[\"date\"] = df[\"pickup_datetime\"].apply(lambda x : str(x.day) + \"-\" + str(x.month) + \"-\" + str(x.year))\n",
    "df = df.merge(weather, on = \"date\").drop([\"date\", \"dropoff_datetime\"], axis = 1)\n",
    "df.head()"
   ]
  },
  {
   "cell_type": "markdown",
   "id": "66ef335b",
   "metadata": {},
   "source": [
    "# Сохранение данных и вывод о проделанной работе"
   ]
  },
  {
   "cell_type": "code",
   "execution_count": 26,
   "id": "693a4c48",
   "metadata": {},
   "outputs": [
    {
     "name": "stdout",
     "output_type": "stream",
     "text": [
      "Сохранение данных!\n",
      "Данные сохранены\n"
     ]
    }
   ],
   "source": [
    "print(\"Сохранение данных!\")\n",
    "df.to_csv(\"c1_result.csv\", index = False)\n",
    "print(\"Данные сохранены\")"
   ]
  },
  {
   "cell_type": "markdown",
   "id": "9d2c4453",
   "metadata": {},
   "source": [
    "### Вывод"
   ]
  },
  {
   "cell_type": "markdown",
   "id": "8818b6a2",
   "metadata": {},
   "source": [
    "- Обработаны пропуски во всех данных\n",
    "- Обработаны выбросы во всех данных\n",
    "- данные приведены к приемлемому формату\n",
    "- Объединены данные о всех поездаках и о погоде в том числе"
   ]
  },
  {
   "cell_type": "code",
   "execution_count": null,
   "id": "5429ed39",
   "metadata": {},
   "outputs": [],
   "source": []
  },
  {
   "cell_type": "code",
   "execution_count": null,
   "id": "b2c82709",
   "metadata": {},
   "outputs": [],
   "source": []
  }
 ],
 "metadata": {
  "kernelspec": {
   "display_name": "Python 3 (ipykernel)",
   "language": "python",
   "name": "python3"
  },
  "language_info": {
   "codemirror_mode": {
    "name": "ipython",
    "version": 3
   },
   "file_extension": ".py",
   "mimetype": "text/x-python",
   "name": "python",
   "nbconvert_exporter": "python",
   "pygments_lexer": "ipython3",
   "version": "3.9.12"
  }
 },
 "nbformat": 4,
 "nbformat_minor": 5
}
